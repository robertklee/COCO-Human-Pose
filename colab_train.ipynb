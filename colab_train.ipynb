{
  "nbformat": 4,
  "nbformat_minor": 0,
  "metadata": {
    "colab": {
      "name": "colab_train.ipynb",
      "provenance": [],
      "collapsed_sections": []
    },
    "kernelspec": {
      "display_name": "Python 3",
      "name": "python3"
    },
    "accelerator": "GPU"
  },
  "cells": [
    {
      "cell_type": "code",
      "execution_count": null,
      "metadata": {},
      "outputs": [],
      "source": [
        "# Set TensorFlow version to 1.x\n",
        "%tensorflow_version 1.x\n",
        "\n",
        "# Print assigned GPU\n",
        "gpu_info = !nvidia-smi\n",
        "gpu_info = '\\n'.join(gpu_info)\n",
        "if gpu_info.find('failed') >= 0:\n",
        "    print('Select the Runtime > \"Change runtime type\" menu to enable a GPU accelerator, ')\n",
        "    print('and then re-execute this cell.')\n",
        "else:\n",
        "    print(gpu_info)"
      ]
    },
    {
      "cell_type": "code",
      "metadata": {
        "id": "RUQcY5kdrWiO",
        "colab": {
          "base_uri": "https://localhost:8080/"
        },
        "executionInfo": {
          "status": "ok",
          "timestamp": 1615509232436,
          "user_tz": 480,
          "elapsed": 779,
          "user": {
            "displayName": "Robert Lee",
            "photoUrl": "https://lh3.googleusercontent.com/a-/AOh14Gg5Bo21GMlIXvvTRzHk7PUzZL8VXUJiObN8raRq=s64",
            "userId": "05735836358878398466"
          }
        },
        "outputId": "3e4f731e-65fd-4ea5-ec7c-511da428b65a"
      },
      "source": [
        "# Mount Google Drive\n",
        "from google.colab import drive\n",
        "drive.mount('/content/gdrive')"
      ],
      "execution_count": null,
      "outputs": []
    },
    {
      "cell_type": "code",
      "execution_count": null,
      "metadata": {},
      "outputs": [],
      "source": [
        "# IMPORTANT: Ensure that the repository directory follows the path:\n",
        "# \"/content/gdrive/MyDrive/Colab Data/COCO-Human-Pose\""
      ]
    },
    {
      "cell_type": "code",
      "metadata": {
        "id": "yWlpeOl829ji"
      },
      "source": [
        "# Download dataset to pre-specified folder on local VM instance\n",
        "# Change dir to project dir\n",
        "%cd \"/content/gdrive/MyDrive/Colab Data/COCO-Human-Pose\"\n",
        "\n",
        "import time\n",
        "from datetime import datetime, timedelta\n",
        "\n",
        "start = time.time()\n",
        "\n",
        "!bash \"./scripts/coco_dl.sh\" /content/datasets\n",
        "\n",
        "download_time = time.time() - start\n",
        "print(\"Total download time: {}\".format(str(timedelta(seconds=download_time))))"
      ],
      "execution_count": null,
      "outputs": []
    },
    {
      "cell_type": "code",
      "metadata": {
        "colab": {
          "base_uri": "https://localhost:8080/"
        },
        "id": "d514HD0J2xmy",
        "executionInfo": {
          "status": "ok",
          "timestamp": 1615509979883,
          "user_tz": 480,
          "elapsed": 1619,
          "user": {
            "displayName": "Robert Lee",
            "photoUrl": "https://lh3.googleusercontent.com/a-/AOh14Gg5Bo21GMlIXvvTRzHk7PUzZL8VXUJiObN8raRq=s64",
            "userId": "05735836358878398466"
          }
        },
        "outputId": "2a6a0676-17de-44c1-f513-69b66f191cf4"
      },
      "source": [
        "!ls /content/datasets/coco/train2017 | wc -l\n",
        "!ls /content/datasets/coco/val2017 | wc -l"
      ],
      "execution_count": null,
      "outputs": []
    },
    {
      "cell_type": "code",
      "metadata": {
        "id": "SBQbXIcUC4sG",
        "colab": {
          "base_uri": "https://localhost:8080/"
        },
        "executionInfo": {
          "status": "ok",
          "timestamp": 1615512633807,
          "user_tz": 480,
          "elapsed": 2389,
          "user": {
            "displayName": "Robert Lee",
            "photoUrl": "https://lh3.googleusercontent.com/a-/AOh14Gg5Bo21GMlIXvvTRzHk7PUzZL8VXUJiObN8raRq=s64",
            "userId": "05735836358878398466"
          }
        },
        "outputId": "17f9fa33-cd45-4f7c-a328-df6b9ae24f00"
      },
      "source": [
        "# Ensure that filesystem is set up correctly and will not be the bottleneck\n",
        "import time\n",
        "from datetime import datetime, timedelta\n",
        "\n",
        "start = time.time()\n",
        "\n",
        "import os\n",
        "def print_files_in_dir(path):\n",
        "    print(len(os.listdir(path)), \" files at \", path)\n",
        "\n",
        "print_files_in_dir('/content/datasets/coco/train2017/')\n",
        "print_files_in_dir('/content/datasets/coco/val2017/')\n",
        "\n",
        "\n",
        "setup_time = time.time() - start\n",
        "print(\"Total setup time: {}\".format(str(timedelta(seconds=setup_time))))\n",
        "\n",
        "if setup_time > 1:\n",
        "    print(\"There appears to be a bottleneck with filesystem loading time. This may severely impact training speed.\")"
      ],
      "execution_count": null,
      "outputs": []
    },
    {
      "cell_type": "code",
      "metadata": {
        "colab": {
          "base_uri": "https://localhost:8080/"
        },
        "id": "UeLJoy2iz5sE",
        "executionInfo": {
          "status": "ok",
          "timestamp": 1615508555081,
          "user_tz": 480,
          "elapsed": 5955,
          "user": {
            "displayName": "Robert Lee",
            "photoUrl": "https://lh3.googleusercontent.com/a-/AOh14Gg5Bo21GMlIXvvTRzHk7PUzZL8VXUJiObN8raRq=s64",
            "userId": "05735836358878398466"
          }
        },
        "outputId": "5fb5bd9a-d2f3-4e0a-d5b2-d18acdccd85b"
      },
      "source": [
        "# Toggle COLAB_TRAINING variable in constants file\n",
        "# https://askubuntu.com/questions/20414/find-and-replace-text-within-a-file-using-commands\n",
        "!sed -i.bak 's/COLAB_TRAINING = False/COLAB_TRAINING = True/g' constants.py \n",
        "\n",
        "# Remove backup file\n",
        "!rm constants.py.bak\n",
        "\n",
        "# Upgrade required imgaug package because of a bug on 0.2.9\n",
        "!pip install --upgrade imgaug==0.4.0"
      ],
      "execution_count": null,
      "outputs": []
    },
    {
      "cell_type": "code",
      "metadata": {
        "colab": {
          "base_uri": "https://localhost:8080/"
        },
        "id": "O2MRZcYU2TN2",
        "executionInfo": {
          "status": "ok",
          "timestamp": 1615512475320,
          "user_tz": 480,
          "elapsed": 668715,
          "user": {
            "displayName": "Robert Lee",
            "photoUrl": "https://lh3.googleusercontent.com/a-/AOh14Gg5Bo21GMlIXvvTRzHk7PUzZL8VXUJiObN8raRq=s64",
            "userId": "05735836358878398466"
          }
        },
        "outputId": "1f977904-3e1f-4e7d-c0ac-3d8511514c14"
      },
      "source": [
        "!python3 train.py --epochs 100 --batch 16 --hourglass 4 --subset 1.0 --loss \"weighted_mse\" --augment \"light\"\n",
        "\n",
        "# To resume, add the following to the above command, and point it to the subdirectory of the model checkpoints. Ensure everything matches\n",
        "# --resume True --resume-epoch 42 --resume-subdir \"2021-03-14-15h-92m_batchsize_12_hg_4\"\n",
        "\n",
        "# The options are below. NOTE that ALL options must match across training sessions:\n",
        "# --batch           I recommend 12 for hg 8, 16 for hg 4\n",
        "# --augment         none, light, medium, heavy\n",
        "# --loss            keras_mse, weighted_mse, euclidean_loss, focal_loss\n",
        "# --activation      linear, sigmoid, relu\n",
        "# --optimizer       rmsProp, adam\n",
        "# --learning-rate    we originally used 5e-4. One of the pytorch models used 1e-2. Currently default is 5e-3\n",
        "\n",
        "# NOTE about subset: if you decide to run on a subset <1.0, there is no functionality to retrieve the same subset of data if the model is \n",
        "# stopped then resumed. For this reason, subset should only be used for quick tests rather than reporting robust/repeatable results. \n",
        "# Resuming a model with subset data may be meaningless because it is not guaranteed to get the same subset of data. It is more equivalent \n",
        "# to starting a brand new training session with slightly pre-trained weights."
      ],
      "execution_count": null,
      "outputs": []
    },
    {
      "cell_type": "code",
      "execution_count": null,
      "metadata": {},
      "outputs": [],
      "source": [
        "# %% Create Eval Instance\n",
        "import time\n",
        "from datetime import datetime, timedelta\n",
        "\n",
        "import imp\n",
        "import evaluation_wrapper\n",
        "imp.reload(evaluation_wrapper)\n",
        "import evaluation\n",
        "imp.reload(evaluation)\n",
        "import constants\n",
        "import matplotlib.pyplot as plt\n",
        "%matplotlib inline\n",
        "\n",
        "eval = evaluation_wrapper.EvaluationWrapper('2021-04-03-18h-11m_batchsize_16_hg_4_loss_keras_mse_aug_medium_sigma4_learningrate_5.0e-03_opt_adam_gt-4kp_activ_sigmoid')\n",
        "# eval = evaluation_wrapper.EvaluationWrapper('2021-04-01-21h-59m_batchsize_16_hg_4_loss_weighted_mse_aug_light_sigma4_learningrate_5.0e-03_opt_rmsProp_gt-4kp_activ_sigmoid_subset_0.50_lrfix')"
      ]
    },
    {
      "cell_type": "code",
      "execution_count": null,
      "metadata": {},
      "outputs": [],
      "source": [
        "# %% Run OKS\n",
        "start = time.time()\n",
        "\n",
        "eval.calculateOKS(1, constants.Generator.representative_set_gen, average_flip_prediction=True)\n",
        "elapsed = time.time() - start\n",
        "print(\"Total OKS average normal & flip time: {}\".format(str(timedelta(seconds=elapsed))))\n",
        "\n",
        "start = time.time()\n",
        "\n",
        "eval.calculateOKS(1, constants.Generator.representative_set_gen, average_flip_prediction=False)\n",
        "\n",
        "elapsed = time.time() - start\n",
        "print(\"Total OKS time: {}\".format(str(timedelta(seconds=elapsed))))"
      ]
    },
    {
      "cell_type": "code",
      "execution_count": null,
      "metadata": {},
      "outputs": [],
      "source": [
        "# %% Run PCK\n",
        "start = time.time()\n",
        "\n",
        "eval.calculatePCK(1, constants.Generator.representative_set_gen, average_flip_prediction=True)\n",
        "eval.calculatePCK(1, constants.Generator.representative_set_gen, average_flip_prediction=False)\n",
        "\n",
        "elapsed = time.time() - start\n",
        "print(\"Total PCK time: {}\".format(str(timedelta(seconds=elapsed))))"
      ]
    },
    {
      "cell_type": "code",
      "execution_count": null,
      "metadata": {},
      "outputs": [],
      "source": [
        "# %% Visualize representative batch heatmaps\n",
        "start = time.time()\n",
        "\n",
        "eval.visualizeHeatmaps(constants.Generator.representative_set_gen)\n",
        "\n",
        "elapsed = time.time() - start\n",
        "print(\"Total heatmap time: {}\".format(str(timedelta(seconds=elapsed))))\n"
      ]
    },
    {
      "cell_type": "code",
      "execution_count": null,
      "metadata": {},
      "outputs": [],
      "source": [
        "# %% Visualize representative batch keypoints\n",
        "start = time.time()\n",
        "\n",
        "eval.visualizeKeypoints(constants.Generator.representative_set_gen)\n",
        "\n",
        "elapsed = time.time() - start\n",
        "print(\"Total keypoint time: {}\".format(str(timedelta(seconds=elapsed))))"
      ]
    }
  ]
}