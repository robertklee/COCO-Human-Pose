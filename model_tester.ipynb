{
  "nbformat": 4,
  "nbformat_minor": 0,
  "metadata": {
    "language_info": {
      "codemirror_mode": { "name": "ipython", "version": 3 },
      "file_extension": ".py",
      "mimetype": "text/x-python",
      "name": "python",
      "nbconvert_exporter": "python",
      "pygments_lexer": "ipython3",
      "version": "3.8.2-final"
    },
    "orig_nbformat": 2,
    "kernelspec": {
      "name": "python3",
      "display_name": "Python 3.8.2 64-bit",
      "metadata": {
        "interpreter": {
          "hash": "c0cfba6cd26d1ab26e4c3e83d23793ceb7168314b52ecf65aba49005d127e69c"
        }
      }
    },
    "colab": {
      "name": "model_tester.ipynb",
      "provenance": [],
      "collapsed_sections": []
    },
    "accelerator": "GPU"
  },
  "cells": [
    {
      "cell_type": "code",
      "metadata": { "id": "WTmLhPWMRIiX" },
      "source": [
        "# Set TensorFlow version to 1.x\n",
        "%tensorflow_version 1.x\n",
        "\n",
        "# Print assigned GPU\n",
        "gpu_info = !nvidia-smi\n",
        "gpu_info = '\\n'.join(gpu_info)\n",
        "if gpu_info.find('failed') >= 0:\n",
        "    print('Select the Runtime > \"Change runtime type\" menu to enable a GPU accelerator, ')\n",
        "    print('and then re-execute this cell.')\n",
        "else:\n",
        "    print(gpu_info)"
      ],
      "execution_count": null,
      "outputs": []
    },
    {
      "cell_type": "code",
      "metadata": { "id": "By5iarLyRPWc" },
      "source": [
        "# Mount Google Drive\n",
        "from google.colab import drive\n",
        "drive.mount('/content/gdrive')"
      ],
      "execution_count": null,
      "outputs": []
    },
    {
      "cell_type": "code",
      "metadata": { "id": "1veKQbQIRoMq" },
      "source": [
        "# Download dataset to pre-specified folder on local VM instance\n",
        "# Change dir to project dir\n",
        "%cd \"/content/gdrive/MyDrive/Colab Data/COCO-Human-Pose\"\n",
        "\n",
        "import time\n",
        "from datetime import datetime, timedelta\n",
        "\n",
        "start = time.time()\n",
        "\n",
        "!bash \"./scripts/coco_dl.sh\" /content/datasets\n",
        "\n",
        "download_time = time.time() - start\n",
        "print(\"Total download time: {}\".format(str(timedelta(seconds=download_time))))"
      ],
      "execution_count": null,
      "outputs": []
    },
    {
      "cell_type": "code",
      "metadata": { "id": "wxwH0AHjTGd9" },
      "source": [
        "!ls /content/datasets/coco/train2017 | wc -l\n",
        "!ls /content/datasets/coco/val2017 | wc -l"
      ],
      "execution_count": null,
      "outputs": []
    },
    {
      "cell_type": "code",
      "metadata": { "id": "e4k3BVwzTHht" },
      "source": [
        "# Ensure that filesystem is set up correctly and will not be the bottleneck\n",
        "import time\n",
        "from datetime import datetime, timedelta\n",
        "\n",
        "start = time.time()\n",
        "\n",
        "import os\n",
        "def print_files_in_dir(path):\n",
        "    print(len(os.listdir(path)), \" files at \", path)\n",
        "\n",
        "print_files_in_dir('/content/datasets/coco/train2017/')\n",
        "print_files_in_dir('/content/datasets/coco/val2017/')\n",
        "\n",
        "\n",
        "setup_time = time.time() - start\n",
        "print(\"Total setup time: {}\".format(str(timedelta(seconds=setup_time))))\n",
        "\n",
        "if setup_time > 1:\n",
        "    print(\"There appears to be a bottleneck with filesystem loading time. This may severely impact training speed.\")"
      ],
      "execution_count": null,
      "outputs": []
    },
    {
      "cell_type": "code",
      "metadata": { "id": "3VGe4_1sTPRH" },
      "source": [
        "# Toggle COLAB_TRAINING variable in constants file\n",
        "# https://askubuntu.com/questions/20414/find-and-replace-text-within-a-file-using-commands\n",
        "!sed -i.bak 's/COLAB_TRAINING = False/COLAB_TRAINING = True/g' constants.py \n",
        "\n",
        "# Remove backup file\n",
        "!rm constants.py.bak\n",
        "\n",
        "# Upgrade required imgaug package because of a bug on 0.2.9\n",
        "!pip install --upgrade imgaug==0.4.0"
      ],
      "execution_count": null,
      "outputs": []
    },
    {
      "cell_type": "code",
      "metadata": { "id": "CurWEGcdRHtA" },
      "source": [
        "import imp\n",
        "import evaluation_wrapper\n",
        "#imp.reload(evaluation_wrapper)\n",
        "import evaluation\n",
        "#imp.reload(evaluation)\n",
        "from constants import *\n",
        "\n",
        "eval = evaluation_wrapper.EvaluationWrapper('2021-04-02-02h-21m_batchsize_16_hg_4_loss_keras_mse_aug_medium_sigma4_learningrate_5.0e-03_opt_adam_gt-4kp_activ_linear')"
      ],
      "execution_count": null,
      "outputs": []
    },
    {
      "cell_type": "code",
      "metadata": { "id": "LZe2owx2RHtG" },
      "source": ["eval.calculateOKS(1, Generator.val_gen)"],
      "execution_count": null,
      "outputs": []
    },
    {
      "cell_type": "code",
      "metadata": { "id": "4CnUMzg8RHtH" },
      "source": ["eval.calculatePCK(1, Generator.val_gen)"],
      "execution_count": null,
      "outputs": []
    },
    {
      "cell_type": "code",
      "metadata": { "id": "GeQHWFyMRHtH" },
      "source": [],
      "execution_count": null,
      "outputs": []
    }
  ]
}
